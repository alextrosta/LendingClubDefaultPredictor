{
 "cells": [
  {
   "cell_type": "code",
   "execution_count": 3,
   "metadata": {},
   "outputs": [],
   "source": [
    "# Author: Alex Trostanovsky, 31-08-2018\n",
    "#\n",
    "# These notebooks contain the Exploratory Data Analysis I've conducted on Lending Club data\n",
    "# Using third party data sources from:\n",
    "# -  United States Department of Labour\n",
    "# -  International Health Organization\n",
    "#\n",
    "# This notebook:\n",
    "# 1)  preprocesses data from tables which contain:\n",
    "#     -  number of employees, establishments, and cumulative annual pay per 3zip area (areas of US which are contained \n",
    "#        within a 3-digit zipcode prefix)\n",
    "#     -  un/employment, level of education, demographic info per 3zip area\n",
    "#     and merges these tables with lending club data to augment it\n",
    "#\n",
    "# 2) categorizes 'emp_title' data into discrete categories outlined by the International Labour Organization's (ILO) \n",
    "#    International Standard Classification of Occupations (ISCO)\n",
    "#\n",
    "# 3) splits into training/testing datasets, and trains a LightGBM classifier to categorize loan candidates who're are likely\n",
    "#    to default (e.g. either 'Charged Off', 'Default', '30-120 Days Late)\n",
    "#\n",
    "# 4) produces cross-validation (AUCROC) metric result on the testing data-set with the trained model\n",
    "#\n",
    "# 5) generates a '_feature_importances' table for the trained model \n",
    "\n",
    "from contextlib               import contextmanager\n",
    "from lightgbm                 import LGBMClassifier\n",
    "from lightgbm                 import LGBMRegressor\n",
    "from sklearn.metrics          import roc_auc_score, roc_curve\n",
    "from sklearn.metrics          import mean_squared_error\n",
    "from sklearn.model_selection  import KFold, StratifiedKFold\n",
    "from sklearn.cross_validation import train_test_split\n",
    "from math                     import sqrt\n",
    "from tqdm                     import tqdm\n",
    "\n",
    "import numpy as np\n",
    "import pandas as pd\n",
    "import gc\n",
    "import time\n",
    "import matplotlib.pyplot as plt\n",
    "import seaborn as sns\n",
    "import warnings\n",
    "warnings.simplefilter(action='ignore', category=FutureWarning)"
   ]
  },
  {
   "cell_type": "code",
   "execution_count": 4,
   "metadata": {},
   "outputs": [],
   "source": [
    "# convert percent string to float\n",
    "def p2f(x):\n",
    "    return float(x.strip('%'))/100"
   ]
  },
  {
   "cell_type": "code",
   "execution_count": 5,
   "metadata": {},
   "outputs": [],
   "source": [
    "# One-hot encoding for categorical columns with get_dummies\n",
    "def one_hot_encoder(df, nan_as_category = True):\n",
    "    original_columns = list(df.columns)\n",
    "    categorical_columns = [col for col in df.columns if df[col].dtype == 'object']\n",
    "    df = pd.get_dummies(df, columns= categorical_columns, dummy_na= nan_as_category)\n",
    "    new_columns = [c for c in df.columns if c not in original_columns]\n",
    "    return df, new_columns"
   ]
  },
  {
   "cell_type": "code",
   "execution_count": 6,
   "metadata": {},
   "outputs": [],
   "source": [
    "def preprocess_estabs():\n",
    "\n",
    "    # read in dataframe containing establishment, employees, and annual payroll per zipcode \n",
    "\n",
    "    zips = pd.read_csv('../data/third_party/estab_emp_pay_by_3zip.csv')\n",
    "    zips = zips.drop(columns = {'3zip.1'})\n",
    "    zips.rename(columns = {'3zip': 'zip_code'}, inplace = True)\n",
    "\n",
    "    # zfill columns with 3-digit zipcode prefix to contain 3 digits (i.e. '11' - '011')\n",
    "\n",
    "    zips['zip_code'] = zips.zip_code.apply(lambda x: str(int(x)).zfill(3))\n",
    "    return zips"
   ]
  },
  {
   "cell_type": "code",
   "execution_count": 7,
   "metadata": {},
   "outputs": [],
   "source": [
    "def preprocess_lat_lons():\n",
    "    # read in dataframe containing the median lat-lon per 3-digit prefix zipcode\n",
    "\n",
    "    lat_lon = pd.read_csv('../data/third_party/prezip_to_lat_lon.csv')\n",
    "    lat_lon.rename(columns = {'prezip': 'zip_code'}, inplace = True)\n",
    "    lat_lon['zip_code'] = lat_lon['zip_code'].apply(str)\n",
    "    return lat_lon"
   ]
  },
  {
   "cell_type": "code",
   "execution_count": 8,
   "metadata": {},
   "outputs": [],
   "source": [
    "def preprocess_unemp():\n",
    "    # read in dataframe containing unemployment data for zipcodes aggregated (mean) by their first 3 digits\n",
    "    unemp = pd.read_csv('../data/third_party/zip_to_employment_stats.csv')\n",
    "    unemp = unemp.drop(columns = {'prezip'})\n",
    "    unemp['zip_code'] = unemp.zip_code.apply(lambda x: str(int(x)).zfill(3))\n",
    "    return unemp"
   ]
  },
  {
   "cell_type": "code",
   "execution_count": 9,
   "metadata": {},
   "outputs": [],
   "source": [
    "def preprocess_third_party_src():\n",
    "    zips    = preprocess_estabs()\n",
    "    lat_lon = preprocess_lat_lons()    \n",
    "    unemp   = preprocess_unemp() \n",
    "    return zips, lat_lon, unemp"
   ]
  },
  {
   "cell_type": "code",
   "execution_count": 10,
   "metadata": {},
   "outputs": [],
   "source": [
    "def letterSubGradesToNumeric(df):\n",
    "    \"\"\"Convert the letter+number sub_grade parameter in the Lending Club datatables to a numeric score.\n",
    "    i.e.\n",
    "    A1 = 36\n",
    "    .\n",
    "    .\n",
    "    .\n",
    "    G6 = 1\n",
    "    \n",
    "    Parameters\n",
    "    ----------\n",
    "    \n",
    "    df (pd.Dataframe):\n",
    "        the dataframe containing the lending club data\n",
    "        \n",
    "    Return\n",
    "    ------\n",
    "    \n",
    "    df (pd.Dataframe):\n",
    "        dataframe containing the numeric sub_grade score\n",
    "    \n",
    "    \"\"\"\n",
    "    grades = df.sub_grade.unique().tolist()\n",
    "    gradeDict = {}\n",
    "    for grade in grades:\n",
    "        if type(grade) is str : \n",
    "            \n",
    "            # subtract ascii value of 'A' first character in subgrade\n",
    "            # multiply by 5 (there are 6 letters: A, B, C, D, E, F)\n",
    "            # add the the second character in the sub_grade (the digit)\n",
    "            num = (ord(grade[0]) - 65)*5 + int(grade[1]) \n",
    "            \n",
    "            # want numeric grade to be ascending, so subtract from 36\n",
    "            gradeDict[grade] = 36 - num \n",
    "    df['sub_grade'].replace(gradeDict, inplace = True)\n",
    "    return df"
   ]
  },
  {
   "cell_type": "code",
   "execution_count": 11,
   "metadata": {},
   "outputs": [],
   "source": [
    "def preprocess_LC_df(df):\n",
    "    # drop unnecessary columns\n",
    "    # id        = doesn't exist (id of loan - not provided by LC)\n",
    "    # emp_title = too many entries ( > 30 000)\n",
    "    # url       = url of user account at LC\n",
    "\n",
    "    df.drop(columns = ['id', 'url', 'title'], inplace = True)\n",
    "\n",
    "    df['int_rate']   = df['int_rate'].dropna().apply(p2f)\n",
    "    df['int_rate']   = pd.to_numeric(df['int_rate'])\n",
    "    df['revol_util'] = df['revol_util'].dropna().apply(p2f)\n",
    "    df['revol_util'] = pd.to_numeric(df['revol_util'])\n",
    "\n",
    "    # calculate feature - length of loan\n",
    "\n",
    "    df['credit_length'] = df['loan_amnt'] / df['installment']\n",
    "    # convert sub_grades to corresponding numeric value\n",
    "\n",
    "    df = letterSubGradesToNumeric(df)\n",
    "\n",
    "    df['zip_code'] = df['zip_code'].dropna().apply(lambda x: x.strip('xx'))\n",
    "    \n",
    "    # get only lower half of sub_grades ( 1 - 18, G6 - D3 )\n",
    "    # not necessary for current analysis\n",
    "\n",
    "    # df =  df[df['sub_grade'] <= 18]\n",
    "    \n",
    "    # merge dataframe containing establishment, employees, and annual payroll per zipcode \n",
    "    # and   dataframe containing the median lat-lon per 3-digit prefix zipcode\n",
    "    # and   dataframe containing unemployment data\n",
    "    # to    lending club dataframe  \n",
    "    \n",
    "    zips, lat_lon, unemp = preprocess_third_party_src()\n",
    "\n",
    "    df = pd.merge(df, zips,    on = 'zip_code', how = 'left')\n",
    "    print(\"merged establishments/employees/payroll\")\n",
    "    df = pd.merge(df, lat_lon, on = 'zip_code', how = 'left')\n",
    "    print(\"merged lat/lons\")\n",
    "    df = pd.merge(df, unemp,   on = 'zip_code', how = 'left')\n",
    "    print(\"merged unemployments\")\n",
    "    \n",
    "    # generate a list of all features to be dropped (any feature which is more than 70% NULL)\n",
    "    missing_fractions = df.isnull().mean().sort_values(ascending=False)\n",
    "    drop_list = sorted(list(missing_fractions[missing_fractions > 0.3].index))\n",
    "    df.drop(labels=drop_list, axis=1, inplace=True)\n",
    "\n",
    "    # drop zip_code and addr_state categorical variables \n",
    "    # now that we have (approx.) median lat-lons per application\n",
    "\n",
    "    df.drop(columns = ['zip_code', 'addr_state'], inplace = True)\n",
    "\n",
    "    # make list of all time variables\n",
    "\n",
    "    date_cols = ['issue_d', 'earliest_cr_line', 'last_pymnt_d', 'last_credit_pull_d', 'next_pymnt_d']\n",
    "\n",
    "    # set start_date to construct timedeltas\n",
    "\n",
    "    start_date = pd.Timestamp('2018-08-01')\n",
    "\n",
    "    # change all string date features to pd.Timestamp objects\n",
    "\n",
    "    for col in date_cols:\n",
    "        if col in df.columns.tolist():\n",
    "            df[col] = df[col].apply(pd.Timestamp) \n",
    "            print(\"converted \" + str(col) + \" to datetime\")\n",
    "\n",
    "    # calculate time deltas for each time features \n",
    "\n",
    "    for col in date_cols:\n",
    "        if col in df.columns.tolist():\n",
    "            df[col] = (df[col] - start_date)\n",
    "            df[col] = df[col].dt.days\n",
    "\n",
    "    return df"
   ]
  },
  {
   "cell_type": "code",
   "execution_count": 12,
   "metadata": {},
   "outputs": [
    {
     "name": "stderr",
     "output_type": "stream",
     "text": [
      "F:\\Anaconda\\lib\\site-packages\\IPython\\core\\interactiveshell.py:2728: DtypeWarning: Columns (18,58,117,128,129,130,133,134,135,138,144,145,146) have mixed types. Specify dtype option on import or set low_memory=False.\n",
      "  interactivity=interactivity, compiler=compiler, result=result)\n"
     ]
    }
   ],
   "source": [
    "# read in saved csv\n",
    "\n",
    "df = pd.read_csv('../data/exports/coded_emp_target.csv') \n",
    "\n",
    "# export adds redundant column for index values; get rid of that\n",
    "df.drop(columns = ['Unnamed: 0'], inplace = True)"
   ]
  },
  {
   "cell_type": "code",
   "execution_count": 13,
   "metadata": {},
   "outputs": [],
   "source": [
    "# drop rows which have digits for sub_mjr_grp_isco_08_title\n",
    "\n",
    "df = df[df.sub_mjr_grp_isco_08_title.apply(lambda x: not x.isnumeric())]"
   ]
  },
  {
   "cell_type": "code",
   "execution_count": 14,
   "metadata": {},
   "outputs": [
    {
     "name": "stdout",
     "output_type": "stream",
     "text": [
      "merged establishments/employees/payroll\n",
      "merged lat/lons\n",
      "merged unemployments\n",
      "converted issue_d to datetime\n",
      "converted earliest_cr_line to datetime\n",
      "converted last_pymnt_d to datetime\n",
      "converted last_credit_pull_d to datetime\n"
     ]
    }
   ],
   "source": [
    "# preprocess data \n",
    "\n",
    "df = preprocess_LC_df(df)"
   ]
  },
  {
   "cell_type": "code",
   "execution_count": 15,
   "metadata": {},
   "outputs": [
    {
     "data": {
      "text/plain": [
       "term                          2\n",
       "grade                         7\n",
       "emp_length                   11\n",
       "home_ownership                4\n",
       "verification_status           3\n",
       "pymnt_plan                    2\n",
       "purpose                      14\n",
       "initial_list_status           2\n",
       "application_type              2\n",
       "hardship_flag                 2\n",
       "disbursement_method           2\n",
       "debt_settlement_flag          2\n",
       "sub_mjr_grp_isco_08_title    30\n",
       "dtype: int64"
      ]
     },
     "execution_count": 15,
     "metadata": {},
     "output_type": "execute_result"
    }
   ],
   "source": [
    "# show all categorical columns and how many value are per columns before one hot encoding\n",
    "\n",
    "df.select_dtypes('object').apply(pd.Series.nunique, axis = 0)"
   ]
  },
  {
   "cell_type": "code",
   "execution_count": 16,
   "metadata": {},
   "outputs": [],
   "source": [
    "df, cols = one_hot_encoder(df)\n",
    "\n",
    "# training in lightGBM doesn't allow usage of column names with: '[', ']', or, '<'\n",
    "    \n",
    "import re\n",
    "regex = re.compile(r\"\\[|\\]|<|\\040|_\\040|\\(|\\)\", re.IGNORECASE)\n",
    "df.columns = [regex.sub(\"_\", col) if any(x in str(col) for x in set(('[', ']', '<', '+', ' '))) else col for col in df.columns.values]"
   ]
  },
  {
   "cell_type": "code",
   "execution_count": 17,
   "metadata": {},
   "outputs": [],
   "source": [
    "droplist = ['total_rec_prncp',         # principal recieved to date \n",
    "            'last_pymnt_amnt',         # last payment amount\n",
    "            'last_pymnt_d',            # last payment day\n",
    "            'total_rec_late_fee',      # late fees recieved to date\n",
    "            'out_prncp',               # remaining outstanding principal for total amount funded\n",
    "            'recoveries',              # post charge off gross recovery\n",
    "            'total_rec_int',           # interest received to date\n",
    "            'last_credit_pull_d',      # the most recent month LC pulled credit for this loan\n",
    "            'total_pymnt',             # payments recieved to date for total amount funded\n",
    "            'out_prncp_inv',           # remaining outstanding principal for portion of total amount funded by investors\n",
    "            'total_pymnt_inv',         # payments received to date for portion of total amount funded by investors\n",
    "            'last_fico_range_high',    # the upper boundary range the borrower’s last FICO pulled belongs to.\n",
    "            'collection_recovery_fee', # post charge off collection fee\n",
    "            'last_fico_range_low',     # the lower boundary range the borrower’s last FICO pulled belongs to.\n",
    "            'issue_d']                 # the month which the loan was funded"
   ]
  },
  {
   "cell_type": "code",
   "execution_count": 18,
   "metadata": {},
   "outputs": [],
   "source": [
    "# drop all columns indicative of defaulted loans\n",
    "df.drop(columns = droplist, inplace = True)"
   ]
  },
  {
   "cell_type": "code",
   "execution_count": 19,
   "metadata": {},
   "outputs": [],
   "source": [
    "df.to_csv('../data/exports/preproc_lc.csv')"
   ]
  }
 ],
 "metadata": {
  "kernelspec": {
   "display_name": "Python 3",
   "language": "python",
   "name": "python3"
  },
  "language_info": {
   "codemirror_mode": {
    "name": "ipython",
    "version": 3
   },
   "file_extension": ".py",
   "mimetype": "text/x-python",
   "name": "python",
   "nbconvert_exporter": "python",
   "pygments_lexer": "ipython3",
   "version": "3.6.4"
  }
 },
 "nbformat": 4,
 "nbformat_minor": 2
}
